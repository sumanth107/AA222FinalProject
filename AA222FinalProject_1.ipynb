{
  "nbformat": 4,
  "nbformat_minor": 0,
  "metadata": {
    "colab": {
      "provenance": []
    },
    "kernelspec": {
      "name": "python3",
      "display_name": "Python 3"
    },
    "language_info": {
      "name": "python"
    }
  },
  "cells": [
    {
      "cell_type": "markdown",
      "source": [
        "# Burgers Equation Identification Using PINN-L-BFGS\n",
        "Equation:   $u_{t} + \\lambda_1 uu_{x}-\\lambda_2 u_{xx} = 0$  "
      ],
      "metadata": {
        "id": "47MevyWmJRWQ"
      }
    },
    {
      "cell_type": "code",
      "execution_count": 37,
      "metadata": {
        "id": "pEElq3IUJKev"
      },
      "outputs": [],
      "source": [
        "#author : $um@nth\n",
        "import torch\n",
        "import torch.nn as nn\n",
        "import numpy as np\n",
        "from torch.autograd import grad\n",
        "import scipy.io\n",
        "from torch.utils.data import Dataset, DataLoader\n",
        "import matplotlib.pyplot as plt"
      ]
    },
    {
      "cell_type": "code",
      "source": [
        "N_u = 2500\n",
        "layers = [2, 25, 25, 25, 25, 25, 25, 25, 25, 1]\n",
        "data = scipy.io.loadmat('burgers_shock.mat') \n",
        "t = data['t'].flatten()[:,None]\n",
        "x = data['x'].flatten()[:,None]\n",
        "Exact = np.real(data['usol']).T\n",
        "X, T = np.meshgrid(x,t)\n",
        "X_star = np.hstack((X.flatten()[:,None], T.flatten()[:,None]))                  \n",
        "u_star = Exact.flatten()[:,None]                                                 \n",
        "lb = X_star.min(0)                                                              \n",
        "ub = X_star.max(0)\n",
        "np.random.seed(107)\n",
        "idx = np.random.choice(X_star.shape[0], N_u, replace=False)\n",
        "\n",
        "X_train = X_star[idx,:]\n",
        "u_train = torch.from_numpy(u_star[idx,:]).float()\n",
        "X = torch.from_numpy(X_train[:,0:1]).requires_grad_(True).float()     \n",
        "T = torch.from_numpy(X_train[:,1:2]).requires_grad_(True).float()"
      ],
      "metadata": {
        "id": "TJem93oeJebw"
      },
      "execution_count": 38,
      "outputs": []
    },
    {
      "cell_type": "code",
      "source": [
        "class PINN(nn.Module):\n",
        "\n",
        "  def __init__(self, layers):\n",
        "    super(PINN, self).__init__()\n",
        "    self.layers = nn.ModuleList()\n",
        "    for i, j in zip(layers, layers[1:]):\n",
        "      linear = nn.Linear(i, j)\n",
        "      nn.init.xavier_normal_(linear.weight.data, gain = 1.0)\n",
        "      nn.init.zeros_(linear.bias.data)\n",
        "      self.layers.append(linear)\n",
        "  \n",
        "  def forward(self, x):\n",
        "    L = len(self.layers)\n",
        "    for l, transform in enumerate(self.layers):\n",
        "      if l < L-1:\n",
        "        x = torch.tanh(transform(x))\n",
        "      else:\n",
        "        x = transform(x)\n",
        "    return x   "
      ],
      "metadata": {
        "id": "QZg3grvKJeXX"
      },
      "execution_count": 39,
      "outputs": []
    },
    {
      "cell_type": "code",
      "source": [
        "class PINN_Run():\n",
        "\n",
        "  def __init__(self, X, T, model, u_train):\n",
        "    self.X = X\n",
        "    self.T = T\n",
        "    self.u_train = u_train\n",
        "    self.model = model\n",
        "    self.i = 0\n",
        "    self.l1_error = []\n",
        "    self.l2_error = []\n",
        "    self.l1 = nn.Parameter(torch.tensor([0.], requires_grad=True))\n",
        "    self.l2 = nn.Parameter(torch.tensor([0.], requires_grad=True))\n",
        "    self.model.register_parameter('lambda_1', self.l1)\n",
        "    self.model.register_parameter('lambda_2', self.l2)\n",
        "    self.optimizer = torch.optim.LBFGS(\n",
        "            self.model.parameters(), \n",
        "            lr = 1, \n",
        "            max_iter = 20000, \n",
        "            max_eval = 20000, \n",
        "            history_size = 50,\n",
        "            tolerance_grad = 1e-6, \n",
        "            tolerance_change = 1.0 * np.finfo(float).eps,\n",
        "            line_search_fn = \"strong_wolfe\"\n",
        "        )\n",
        "  \n",
        "  def residual_loss(self):\n",
        "    xf = torch.cat([self.X, self.T], axis=1)\n",
        "    uf = self.model(xf)\n",
        "    u_x = grad(uf.sum(), self.X, retain_graph = True, create_graph = True)[0]\n",
        "    u_xx = grad(u_x.sum(), self.X, retain_graph = True, create_graph = True)[0]\n",
        "    u_t = grad(uf.sum(), self.T, retain_graph = True, create_graph = True)[0]\n",
        "    f = u_t + self.l1*uf*u_x - self.l2*u_xx \n",
        "    return torch.mean(torch.square(f))\n",
        "  \n",
        "  def closure(self):\n",
        "    self.model.train()\n",
        "    mse = nn.MSELoss()\n",
        "    self.optimizer.zero_grad()\n",
        "    yhat = self.model(torch.cat([self.X, self.T], axis=1).float())\n",
        "    loss1 = mse(yhat, self.u_train)\n",
        "    loss2 = self.residual_loss()\n",
        "    loss = loss1 + loss2\n",
        "    loss.backward()\n",
        "    nu = 0.01/np.pi\n",
        "    error_lambda_1 = np.abs(self.l1.detach().numpy() - 1.0)*100\n",
        "    error_lambda_2 = np.abs(self.l2.detach().numpy() - nu)/nu * 100\n",
        "    self.l1_error.append(error_lambda_1[0])\n",
        "    self.l2_error.append(error_lambda_2[0])\n",
        "    if self.i % 100 == 0:\n",
        "      print('Epoch:', self.i, 'Loss: %.5e, Lambda_1: %.5f, Lambda_2: %.5f' % (loss.item(), self.l1, self.l2))\n",
        "    self.i += 1\n",
        "    return loss\n",
        "  \n",
        "  def train_(self):\n",
        "    self.optimizer.step(self.closure)"
      ],
      "metadata": {
        "id": "sV38Y3mbJeVQ"
      },
      "execution_count": 40,
      "outputs": []
    },
    {
      "cell_type": "code",
      "source": [
        "pinn_model = PINN(layers)\n",
        "pinn_ = PINN_Run(X, T, pinn_model, u_train)\n",
        "pinn_.train_()"
      ],
      "metadata": {
        "colab": {
          "base_uri": "https://localhost:8080/"
        },
        "id": "xTEMbkszJeTB",
        "outputId": "a03ec965-b67d-433c-b805-ff787f19baf2"
      },
      "execution_count": 41,
      "outputs": [
        {
          "output_type": "stream",
          "name": "stdout",
          "text": [
            "Epoch: 0 Loss: 3.74209e-01, Lambda_1: 0.00000, Lambda_2: 0.00000\n",
            "Epoch: 100 Loss: 2.83168e-02, Lambda_1: 0.08026, Lambda_2: 0.00054\n",
            "Epoch: 200 Loss: 2.28425e-02, Lambda_1: 0.27738, Lambda_2: 0.00203\n",
            "Epoch: 300 Loss: 1.60742e-02, Lambda_1: 0.42906, Lambda_2: 0.00248\n",
            "Epoch: 400 Loss: 1.12777e-02, Lambda_1: 0.62037, Lambda_2: 0.00319\n",
            "Epoch: 500 Loss: 9.07059e-03, Lambda_1: 0.69135, Lambda_2: 0.00420\n",
            "Epoch: 600 Loss: 7.08503e-03, Lambda_1: 0.76823, Lambda_2: 0.00479\n",
            "Epoch: 700 Loss: 5.99593e-03, Lambda_1: 0.81601, Lambda_2: 0.00545\n",
            "Epoch: 800 Loss: 4.52173e-03, Lambda_1: 0.83184, Lambda_2: 0.00569\n",
            "Epoch: 900 Loss: 3.77591e-03, Lambda_1: 0.84848, Lambda_2: 0.00519\n",
            "Epoch: 1000 Loss: 3.06655e-03, Lambda_1: 0.84794, Lambda_2: 0.00471\n",
            "Epoch: 1100 Loss: 7.06287e-03, Lambda_1: 0.87947, Lambda_2: 0.00480\n",
            "Epoch: 1200 Loss: 2.37530e-03, Lambda_1: 0.84854, Lambda_2: 0.00471\n",
            "Epoch: 1300 Loss: 2.09285e-03, Lambda_1: 0.86900, Lambda_2: 0.00473\n",
            "Epoch: 1400 Loss: 1.85941e-03, Lambda_1: 0.89035, Lambda_2: 0.00472\n",
            "Epoch: 1500 Loss: 1.66801e-03, Lambda_1: 0.90060, Lambda_2: 0.00455\n",
            "Epoch: 1600 Loss: 1.53415e-03, Lambda_1: 0.90577, Lambda_2: 0.00439\n",
            "Epoch: 1700 Loss: 1.43972e-03, Lambda_1: 0.90844, Lambda_2: 0.00444\n",
            "Epoch: 1800 Loss: 1.35901e-03, Lambda_1: 0.92042, Lambda_2: 0.00441\n",
            "Epoch: 1900 Loss: 1.28436e-03, Lambda_1: 0.92194, Lambda_2: 0.00437\n",
            "Epoch: 2000 Loss: 1.20309e-03, Lambda_1: 0.92292, Lambda_2: 0.00423\n",
            "Epoch: 2100 Loss: 1.08220e-03, Lambda_1: 0.92963, Lambda_2: 0.00405\n",
            "Epoch: 2200 Loss: 1.04162e-03, Lambda_1: 0.93222, Lambda_2: 0.00403\n",
            "Epoch: 2300 Loss: 9.99394e-04, Lambda_1: 0.93828, Lambda_2: 0.00402\n",
            "Epoch: 2400 Loss: 9.48682e-04, Lambda_1: 0.94410, Lambda_2: 0.00395\n",
            "Epoch: 2500 Loss: 8.60261e-04, Lambda_1: 0.93638, Lambda_2: 0.00385\n",
            "Epoch: 2600 Loss: 8.20895e-04, Lambda_1: 0.93301, Lambda_2: 0.00377\n",
            "Epoch: 2700 Loss: 7.84779e-04, Lambda_1: 0.92972, Lambda_2: 0.00376\n",
            "Epoch: 2800 Loss: 7.59113e-04, Lambda_1: 0.93434, Lambda_2: 0.00380\n",
            "Epoch: 2900 Loss: 7.19047e-04, Lambda_1: 0.93984, Lambda_2: 0.00377\n",
            "Epoch: 3000 Loss: 6.79096e-04, Lambda_1: 0.94834, Lambda_2: 0.00383\n",
            "Epoch: 3100 Loss: 6.40239e-04, Lambda_1: 0.96037, Lambda_2: 0.00384\n",
            "Epoch: 3200 Loss: 5.94438e-04, Lambda_1: 0.96483, Lambda_2: 0.00383\n",
            "Epoch: 3300 Loss: 5.63639e-04, Lambda_1: 0.96933, Lambda_2: 0.00380\n",
            "Epoch: 3400 Loss: 5.19131e-04, Lambda_1: 0.97752, Lambda_2: 0.00373\n",
            "Epoch: 3500 Loss: 4.99829e-04, Lambda_1: 0.97434, Lambda_2: 0.00368\n",
            "Epoch: 3600 Loss: 4.76124e-04, Lambda_1: 0.97708, Lambda_2: 0.00368\n",
            "Epoch: 3700 Loss: 4.54569e-04, Lambda_1: 0.98070, Lambda_2: 0.00367\n",
            "Epoch: 3800 Loss: 4.34175e-04, Lambda_1: 0.97936, Lambda_2: 0.00367\n",
            "Epoch: 3900 Loss: 4.10642e-04, Lambda_1: 0.97939, Lambda_2: 0.00362\n",
            "Epoch: 4000 Loss: 3.99556e-04, Lambda_1: 0.98093, Lambda_2: 0.00359\n",
            "Epoch: 4100 Loss: 3.83726e-04, Lambda_1: 0.97774, Lambda_2: 0.00355\n",
            "Epoch: 4200 Loss: 3.68729e-04, Lambda_1: 0.97654, Lambda_2: 0.00352\n",
            "Epoch: 4300 Loss: 3.51975e-04, Lambda_1: 0.97425, Lambda_2: 0.00347\n",
            "Epoch: 4400 Loss: 3.47101e-04, Lambda_1: 0.97373, Lambda_2: 0.00345\n",
            "Epoch: 4500 Loss: 3.34533e-04, Lambda_1: 0.97254, Lambda_2: 0.00344\n",
            "Epoch: 4600 Loss: 3.03717e-04, Lambda_1: 0.97790, Lambda_2: 0.00346\n",
            "Epoch: 4700 Loss: 2.86890e-04, Lambda_1: 0.97870, Lambda_2: 0.00344\n",
            "Epoch: 4800 Loss: 2.85942e-04, Lambda_1: 0.97962, Lambda_2: 0.00345\n",
            "Epoch: 4900 Loss: 2.71584e-04, Lambda_1: 0.98159, Lambda_2: 0.00346\n",
            "Epoch: 5000 Loss: 2.61520e-04, Lambda_1: 0.98360, Lambda_2: 0.00345\n",
            "Epoch: 5100 Loss: 2.53232e-04, Lambda_1: 0.98331, Lambda_2: 0.00344\n",
            "Epoch: 5200 Loss: 2.45039e-04, Lambda_1: 0.98606, Lambda_2: 0.00343\n",
            "Epoch: 5300 Loss: 2.36814e-04, Lambda_1: 0.98767, Lambda_2: 0.00342\n",
            "Epoch: 5400 Loss: 2.25629e-04, Lambda_1: 0.98920, Lambda_2: 0.00342\n"
          ]
        }
      ]
    },
    {
      "cell_type": "code",
      "source": [
        "plt.plot(np.arange(1, 5492), np.array(pinn_.l1_error), label='Lambda1')\n",
        "plt.plot(np.arange(1, 5492), np.array(pinn_.l2_error), label='Lambda2')\n",
        "plt.legend()\n",
        "plt.xlabel('Iterations')\n",
        "plt.ylabel('Lambda Error %')\n",
        "plt.title('PINN using L-BFGS Optimizer')\n",
        "plt.show()"
      ],
      "metadata": {
        "colab": {
          "base_uri": "https://localhost:8080/",
          "height": 472
        },
        "id": "D6SxpKT5KBMY",
        "outputId": "4bcb612b-8ee6-4e22-a93a-f78b4bbae8e4"
      },
      "execution_count": 66,
      "outputs": [
        {
          "output_type": "display_data",
          "data": {
            "text/plain": [
              "<Figure size 640x480 with 1 Axes>"
            ],
            "image/png": "[encoded data removed]"
          },
          "metadata": {}
        }
      ]
    },
    {
      "cell_type": "code",
      "source": [
        "lambda1 = float(pinn_model.lambda_1.data)\n",
        "lambda2 = float(pinn_model.lambda_2.data)\n",
        "print('Lambda1 Pred:', round(lambda1,8), '  ; Lambda1 Actual:', 1.0)\n",
        "print('Lambda2 Pred:', round(lambda2,8), '  ; Lambda2 Actual:', round(0.01/np.pi,8))"
      ],
      "metadata": {
        "colab": {
          "base_uri": "https://localhost:8080/"
        },
        "id": "PID09uBgJeQ0",
        "outputId": "709d1842-ba66-4f69-c18e-0291751eac02"
      },
      "execution_count": 47,
      "outputs": [
        {
          "output_type": "stream",
          "name": "stdout",
          "text": [
            "Lambda1 Pred: 0.99005514   ; Lambda1 Actual: 1.0\n",
            "Lambda2 Pred: 0.0034076   ; Lambda2 Actual: 0.0031831\n"
          ]
        }
      ]
    },
    {
      "cell_type": "code",
      "source": [
        "from torchsummary import summary\n",
        "\n",
        "summary(pinn_model, input_size=(2,))"
      ],
      "metadata": {
        "colab": {
          "base_uri": "https://localhost:8080/"
        },
        "id": "kHaYsn_PJeO3",
        "outputId": "6ac89e88-79ec-4f1d-b1a8-c5aa00de2acd"
      },
      "execution_count": 52,
      "outputs": [
        {
          "output_type": "stream",
          "name": "stdout",
          "text": [
            "----------------------------------------------------------------\n",
            "        Layer (type)               Output Shape         Param #\n",
            "================================================================\n",
            "            Linear-1                   [-1, 25]              75\n",
            "            Linear-2                   [-1, 25]             650\n",
            "            Linear-3                   [-1, 25]             650\n",
            "            Linear-4                   [-1, 25]             650\n",
            "            Linear-5                   [-1, 25]             650\n",
            "            Linear-6                   [-1, 25]             650\n",
            "            Linear-7                   [-1, 25]             650\n",
            "            Linear-8                   [-1, 25]             650\n",
            "            Linear-9                    [-1, 1]              26\n",
            "================================================================\n",
            "Total params: 4,651\n",
            "Trainable params: 4,651\n",
            "Non-trainable params: 0\n",
            "----------------------------------------------------------------\n",
            "Input size (MB): 0.00\n",
            "Forward/backward pass size (MB): 0.00\n",
            "Params size (MB): 0.02\n",
            "Estimated Total Size (MB): 0.02\n",
            "----------------------------------------------------------------\n"
          ]
        }
      ]
    }
  ]
}