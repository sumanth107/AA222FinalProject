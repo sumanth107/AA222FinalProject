{
  "nbformat": 4,
  "nbformat_minor": 0,
  "metadata": {
    "colab": {
      "provenance": []
    },
    "kernelspec": {
      "name": "python3",
      "display_name": "Python 3"
    },
    "language_info": {
      "name": "python"
    }
  },
  "cells": [
    {
      "cell_type": "markdown",
      "source": [
        "# Burgers Equation Identification Using ANN-LBFGS Optimizer\n",
        "Equation:   $u_{t} + \\lambda_1 uu_{x}-\\lambda_2 u_{xx} = 0$  "
      ],
      "metadata": {
        "id": "kyogPguUZ3Hj"
      }
    },
    {
      "cell_type": "code",
      "execution_count": 45,
      "metadata": {
        "id": "JdBI_Ji1ZxnL"
      },
      "outputs": [],
      "source": [
        "#author : $um@nth\n",
        "import torch\n",
        "import torch.nn as nn\n",
        "import numpy as np\n",
        "from torch.autograd import grad\n",
        "import scipy.io\n",
        "from torch.utils.data import Dataset, DataLoader\n",
        "import matplotlib.pyplot as plt"
      ]
    },
    {
      "cell_type": "code",
      "source": [
        "N_u = 2500\n",
        "layers = [2, 25, 25, 25, 25, 25, 25, 25, 25, 1]\n",
        "data = scipy.io.loadmat('burgers_shock.mat') \n",
        "t = data['t'].flatten()[:,None]\n",
        "x = data['x'].flatten()[:,None]\n",
        "Exact = np.real(data['usol']).T\n",
        "X, T = np.meshgrid(x,t)\n",
        "X_star = np.hstack((X.flatten()[:,None], T.flatten()[:,None]))                  \n",
        "u_star = Exact.flatten()[:,None]                                                 \n",
        "lb = X_star.min(0)                                                              \n",
        "ub = X_star.max(0)\n",
        "np.random.seed(107)\n",
        "idx = np.random.choice(X_star.shape[0], N_u, replace=False)\n",
        "\n",
        "X_train = X_star[idx,:]\n",
        "u_train = torch.from_numpy(u_star[idx,:]).float()\n",
        "X = torch.from_numpy(X_train[:,0:1]).requires_grad_(True).float()     \n",
        "T = torch.from_numpy(X_train[:,1:2]).requires_grad_(True).float()"
      ],
      "metadata": {
        "id": "pIJzMcPbZ5GK"
      },
      "execution_count": 46,
      "outputs": []
    },
    {
      "cell_type": "code",
      "source": [
        "class ANN(nn.Module):\n",
        "\n",
        "  def __init__(self, layers):\n",
        "    super(ANN, self).__init__()\n",
        "    self.layers = nn.ModuleList()\n",
        "    for i, j in zip(layers, layers[1:]):\n",
        "      linear = nn.Linear(i, j)\n",
        "      nn.init.xavier_normal_(linear.weight.data, gain = 1.0)\n",
        "      nn.init.zeros_(linear.bias.data)\n",
        "      self.layers.append(linear)\n",
        "  \n",
        "  def forward(self, x):\n",
        "    L = len(self.layers)\n",
        "    for l, transform in enumerate(self.layers):\n",
        "      if l < L-1:\n",
        "        x = torch.tanh(transform(x))\n",
        "      else:\n",
        "        x = transform(x)\n",
        "    return x   "
      ],
      "metadata": {
        "id": "DQkBhduhZ5Dh"
      },
      "execution_count": 47,
      "outputs": []
    },
    {
      "cell_type": "code",
      "source": [
        "class ANN_Run():\n",
        "\n",
        "  def __init__(self, X, T, model, u_train):\n",
        "    self.X = X\n",
        "    self.T = T\n",
        "    self.u_train = u_train\n",
        "    self.model = model\n",
        "    self.i = 0\n",
        "    self.optimizer = torch.optim.LBFGS(\n",
        "            self.model.parameters(), \n",
        "            lr = 1, \n",
        "            max_iter = 20000, \n",
        "            max_eval = 20000, \n",
        "            history_size = 50,\n",
        "            tolerance_grad = 1e-4, \n",
        "            tolerance_change = 1.0 * np.finfo(float).eps,\n",
        "            line_search_fn = \"strong_wolfe\"\n",
        "        )\n",
        "  \n",
        "  def closure(self):\n",
        "    self.model.train()\n",
        "    mse = nn.MSELoss()\n",
        "    self.optimizer.zero_grad()\n",
        "    yhat = self.model(torch.cat([self.X, self.T], axis=1).float())\n",
        "    loss1 = mse(yhat, self.u_train)\n",
        "    loss = loss1\n",
        "    loss.backward()\n",
        "    nu = 0.01/np.pi\n",
        "    if self.i % 100 == 0:\n",
        "      print('Epoch:', self.i, 'Loss: %.5e' % (loss.item()))\n",
        "    self.i += 1\n",
        "    return loss\n",
        "  \n",
        "  def train_(self):\n",
        "    self.optimizer.step(self.closure)"
      ],
      "metadata": {
        "id": "KFsJDjBIZ4-9"
      },
      "execution_count": 48,
      "outputs": []
    },
    {
      "cell_type": "code",
      "source": [
        "ann_model = ANN(layers)\n",
        "ann_ = ANN_Run(X, T, ann_model, u_train)\n",
        "ann_.train_()"
      ],
      "metadata": {
        "colab": {
          "base_uri": "https://localhost:8080/"
        },
        "id": "B-1vkPE8Z48q",
        "outputId": "8d662da5-5740-48c4-de47-de902209c002"
      },
      "execution_count": 49,
      "outputs": [
        {
          "output_type": "stream",
          "name": "stdout",
          "text": [
            "Epoch: 0 Loss: 7.10744e-01\n",
            "Epoch: 100 Loss: 5.31385e-03\n",
            "Epoch: 200 Loss: 4.75088e-04\n",
            "Epoch: 300 Loss: 1.26425e-04\n"
          ]
        }
      ]
    },
    {
      "cell_type": "code",
      "source": [
        "ann_model.eval()"
      ],
      "metadata": {
        "colab": {
          "base_uri": "https://localhost:8080/"
        },
        "id": "5k312TbMZ46c",
        "outputId": "ed9341ec-cfb5-4313-ea33-3d4fd16853ad"
      },
      "execution_count": 50,
      "outputs": [
        {
          "output_type": "execute_result",
          "data": {
            "text/plain": [
              "ANN(\n",
              "  (layers): ModuleList(\n",
              "    (0): Linear(in_features=2, out_features=25, bias=True)\n",
              "    (1-7): 7 x Linear(in_features=25, out_features=25, bias=True)\n",
              "    (8): Linear(in_features=25, out_features=1, bias=True)\n",
              "  )\n",
              ")"
            ]
          },
          "metadata": {},
          "execution_count": 50
        }
      ]
    },
    {
      "cell_type": "code",
      "source": [
        "X_ = torch.from_numpy(X_star[:,0:1]).requires_grad_(True).float()     \n",
        "T_ = torch.from_numpy(X_star[:,1:2]).requires_grad_(True).float()\n",
        "xf = torch.cat([X_, T_], axis=1)\n",
        "uf = ann_model(xf)\n",
        "u_x = grad(uf.sum(), X_, retain_graph = True, create_graph = True)[0]\n",
        "u_xx = grad(u_x.sum(), X_, retain_graph = True, create_graph = True)[0]\n",
        "u_t = grad(uf.sum(), T_, retain_graph = True, create_graph = True)[0]"
      ],
      "metadata": {
        "id": "PUgYe6LsZ41t"
      },
      "execution_count": 51,
      "outputs": []
    },
    {
      "cell_type": "code",
      "source": [
        "ind = abs(uf.detach().numpy()-u_star).reshape(-1).argsort()"
      ],
      "metadata": {
        "id": "81-fsmkMZ4zh"
      },
      "execution_count": 52,
      "outputs": []
    },
    {
      "cell_type": "code",
      "source": [
        "A = np.hstack([(-uf*u_x).detach().numpy(), u_xx.detach().numpy()])\n",
        "B = u_t.detach().numpy()\n",
        "\n",
        "l_1, l_2 = np.linalg.lstsq(A, B, rcond=None)[0]"
      ],
      "metadata": {
        "id": "wjfy_k8LbNxW"
      },
      "execution_count": 53,
      "outputs": []
    },
    {
      "cell_type": "code",
      "source": [
        "print('Lambda1 Pred:', round(l_1[0],8), '  ; Lambda1 Actual:', 1.0)\n",
        "print('Lambda2 Pred:', round(l_2[0],8), '  ; Lambda2 Actual:', round(0.01/np.pi,8))"
      ],
      "metadata": {
        "colab": {
          "base_uri": "https://localhost:8080/"
        },
        "id": "c42S2kCybNt6",
        "outputId": "f7d4a7f5-6004-4d5c-f23d-aa2ae32a09c9"
      },
      "execution_count": 54,
      "outputs": [
        {
          "output_type": "stream",
          "name": "stdout",
          "text": [
            "Lambda1 Pred: 0.82174206   ; Lambda1 Actual: 1.0\n",
            "Lambda2 Pred: 0.00260338   ; Lambda2 Actual: 0.0031831\n"
          ]
        }
      ]
    }
  ]
}