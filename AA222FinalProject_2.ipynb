{
  "cells": [
    {
      "cell_type": "markdown",
      "metadata": {
        "id": "St1dxr-dgLcO"
      },
      "source": [
        "# Burgers Equation Identification Using PINN-Adam Optimizer\n",
        "Equation:   $u_{t} + \\lambda_1 uu_{x}-\\lambda_2 u_{xx} = 0$  "
      ]
    },
    {
      "cell_type": "code",
      "execution_count": 6,
      "metadata": {
        "id": "G1YR8RPtf76y"
      },
      "outputs": [],
      "source": [
        "#author : $um@nth\n",
        "import torch\n",
        "import torch.nn as nn\n",
        "import numpy as np\n",
        "from torch.autograd import grad\n",
        "import scipy.io\n",
        "from torch.utils.data import Dataset, DataLoader\n",
        "import matplotlib.pyplot as plt"
      ]
    },
    {
      "cell_type": "code",
      "execution_count": 7,
      "metadata": {
        "id": "gpnIyPTAgeXj"
      },
      "outputs": [],
      "source": [
        "N_u = 2500\n",
        "layers = [2, 25, 25, 25, 25, 25, 25, 25, 25, 1]\n",
        "data = scipy.io.loadmat('burgers_shock.mat') \n",
        "t = data['t'].flatten()[:,None]\n",
        "x = data['x'].flatten()[:,None]\n",
        "Exact = np.real(data['usol']).T\n",
        "X, T = np.meshgrid(x,t)\n",
        "X_star = np.hstack((X.flatten()[:,None], T.flatten()[:,None]))                  \n",
        "u_star = Exact.flatten()[:,None]                                                 \n",
        "lb = X_star.min(0)                                                              \n",
        "ub = X_star.max(0)\n",
        "np.random.seed(107)\n",
        "idx = np.random.choice(X_star.shape[0], N_u, replace=False)\n",
        "\n",
        "X_train = X_star[idx,:]\n",
        "u_train = torch.from_numpy(u_star[idx,:]).float()\n",
        "X = torch.from_numpy(X_train[:,0:1]).requires_grad_(True).float()     \n",
        "T = torch.from_numpy(X_train[:,1:2]).requires_grad_(True).float()"
      ]
    },
    {
      "cell_type": "code",
      "execution_count": 8,
      "metadata": {
        "id": "mK31JVv-geUt"
      },
      "outputs": [],
      "source": [
        "class Data(Dataset):\n",
        "\n",
        "  def __init__(self, X, T, u_train):\n",
        "    self.x = torch.cat([X, T], axis=1).float()\n",
        "    self.y = u_train\n",
        "    self.len = u_train.shape[0]\n",
        "  \n",
        "  def __getitem__(self, index):    \n",
        "      return self.x[index], self.y[index]\n",
        "  \n",
        "  def __len__(self):\n",
        "      return self.len"
      ]
    },
    {
      "cell_type": "code",
      "execution_count": 9,
      "metadata": {
        "id": "tgLNayLEgeSG"
      },
      "outputs": [],
      "source": [
        "data_set = Data(X, T, u_train)\n",
        "train_loader = DataLoader(dataset=data_set, batch_size=128)"
      ]
    },
    {
      "cell_type": "markdown",
      "metadata": {
        "id": "HvZ2suEKko-0"
      },
      "source": [
        "# PINN"
      ]
    },
    {
      "cell_type": "code",
      "execution_count": 10,
      "metadata": {
        "id": "e3jD424KkoSl"
      },
      "outputs": [],
      "source": [
        "class PINN(nn.Module):\n",
        "\n",
        "  def __init__(self, layers):\n",
        "    super(PINN, self).__init__()\n",
        "    self.layers = nn.ModuleList()\n",
        "    for i, j in zip(layers, layers[1:]):\n",
        "      linear = nn.Linear(i, j)\n",
        "      nn.init.xavier_normal_(linear.weight.data, gain = 1.0)\n",
        "      nn.init.zeros_(linear.bias.data)\n",
        "      self.layers.append(linear)\n",
        "  \n",
        "  def forward(self, x):\n",
        "    L = len(self.layers)\n",
        "    for l, transform in enumerate(self.layers):\n",
        "      if l < L-1:\n",
        "        x = torch.tanh(transform(x))\n",
        "      else:\n",
        "        x = transform(x)\n",
        "    return x   "
      ]
    },
    {
      "cell_type": "code",
      "execution_count": 11,
      "metadata": {
        "id": "697MQlFGkoQJ"
      },
      "outputs": [],
      "source": [
        "pinn_model = PINN(layers)\n",
        "l1 = nn.Parameter(torch.tensor([0.], requires_grad=True))\n",
        "l2 = nn.Parameter(torch.tensor([0.], requires_grad=True))\n",
        "pinn_model.register_parameter('lambda_1', l1)\n",
        "pinn_model.register_parameter('lambda_2', l2)\n",
        "optimizer = torch.optim.Adam(pinn_model.parameters(), lr = 0.0005)"
      ]
    },
    {
      "cell_type": "code",
      "execution_count": 12,
      "metadata": {
        "id": "faVA37wgkoNy"
      },
      "outputs": [],
      "source": [
        "def residual_loss(X, T, model, l1, l2):\n",
        "  xf = torch.cat([X, T], axis=1)\n",
        "  uf = model(xf)\n",
        "  u_x = grad(uf.sum(), X, retain_graph = True, create_graph = True)[0]\n",
        "  u_xx = grad(u_x.sum(), X, retain_graph = True, create_graph = True)[0]\n",
        "  u_t = grad(uf.sum(), T, retain_graph = True, create_graph = True)[0]\n",
        "  f = u_t + l1*uf*u_x - l2*u_xx \n",
        "  return torch.mean(torch.square(f))"
      ]
    },
    {
      "cell_type": "code",
      "execution_count": 13,
      "metadata": {
        "id": "pxdDKiilkoLM"
      },
      "outputs": [],
      "source": [
        "def PINN_train(model, train_loader, optimizer, X, T, l1, l2):\n",
        "  epochs = 5500\n",
        "  nu = 0.01/np.pi\n",
        "  mse = nn.MSELoss()\n",
        "  l1_error = []\n",
        "  l2_error = []\n",
        "  for epoch in range(epochs):\n",
        "    for x1, y1 in train_loader:\n",
        "      model.train()\n",
        "      optimizer.zero_grad()\n",
        "      yhat = model(x1)\n",
        "      loss1 = mse(yhat, y1)\n",
        "      loss2 = residual_loss(X, T, model, l1, l2)\n",
        "      loss = loss1 + loss2\n",
        "      loss.backward()\n",
        "      optimizer.step()\n",
        "    error_lambda_1 = np.abs(l1.detach().numpy() - 1.0)*100\n",
        "    error_lambda_2 = np.abs(l2.detach().numpy() - nu)/nu * 100\n",
        "    l1_error.append(error_lambda_1)\n",
        "    l2_error.append(error_lambda_2)\n",
        "    if epoch % 100 == 0:\n",
        "      print('Epoch:', epoch, 'Loss: %.5e, Lambda_1: %.5f, Lambda_2: %.5f' % (loss.item(), l1, l2))\n",
        "  return np.array(l1_error), np.array(l2_error)"
      ]
    },
    {
      "cell_type": "code",
      "execution_count": 14,
      "metadata": {
        "colab": {
          "base_uri": "https://localhost:8080/"
        },
        "id": "_KUpClGWkoGS",
        "outputId": "c23313b9-bd8f-4c41-bef9-e44a9de5814e"
      },
      "outputs": [
        {
          "output_type": "stream",
          "name": "stdout",
          "text": [
            "Epoch: 0 Loss: 2.58724e-01, Lambda_1: -0.00803, Lambda_2: 0.00023\n",
            "Epoch: 100 Loss: 2.25971e-02, Lambda_1: 0.35946, Lambda_2: 0.00309\n",
            "Epoch: 200 Loss: 7.19443e-03, Lambda_1: 0.65177, Lambda_2: 0.00522\n",
            "Epoch: 300 Loss: 3.88787e-03, Lambda_1: 0.77401, Lambda_2: 0.00526\n",
            "Epoch: 400 Loss: 2.00743e-03, Lambda_1: 0.84290, Lambda_2: 0.00512\n",
            "Epoch: 500 Loss: 8.60239e-04, Lambda_1: 0.89261, Lambda_2: 0.00476\n",
            "Epoch: 600 Loss: 7.05578e-04, Lambda_1: 0.91328, Lambda_2: 0.00498\n",
            "Epoch: 700 Loss: 5.46234e-04, Lambda_1: 0.92732, Lambda_2: 0.00500\n",
            "Epoch: 800 Loss: 3.18207e-04, Lambda_1: 0.94439, Lambda_2: 0.00447\n",
            "Epoch: 900 Loss: 2.55431e-04, Lambda_1: 0.95262, Lambda_2: 0.00430\n",
            "Epoch: 1000 Loss: 2.33165e-04, Lambda_1: 0.95555, Lambda_2: 0.00461\n",
            "Epoch: 1100 Loss: 2.31934e-04, Lambda_1: 0.95834, Lambda_2: 0.00460\n",
            "Epoch: 1200 Loss: 4.89964e-04, Lambda_1: 0.96922, Lambda_2: 0.00420\n",
            "Epoch: 1300 Loss: 1.51554e-04, Lambda_1: 0.97292, Lambda_2: 0.00416\n",
            "Epoch: 1400 Loss: 1.45566e-04, Lambda_1: 0.97293, Lambda_2: 0.00424\n",
            "Epoch: 1500 Loss: 1.24034e-04, Lambda_1: 0.97861, Lambda_2: 0.00405\n",
            "Epoch: 1600 Loss: 4.31017e-04, Lambda_1: 0.97963, Lambda_2: 0.00411\n",
            "Epoch: 1700 Loss: 1.02051e-04, Lambda_1: 0.97830, Lambda_2: 0.00422\n",
            "Epoch: 1800 Loss: 8.04531e-05, Lambda_1: 0.98128, Lambda_2: 0.00412\n",
            "Epoch: 1900 Loss: 9.51792e-05, Lambda_1: 0.98183, Lambda_2: 0.00426\n",
            "Epoch: 2000 Loss: 9.89061e-05, Lambda_1: 0.98551, Lambda_2: 0.00399\n",
            "Epoch: 2100 Loss: 8.88041e-04, Lambda_1: 0.98651, Lambda_2: 0.00394\n",
            "Epoch: 2200 Loss: 1.29904e-04, Lambda_1: 0.98615, Lambda_2: 0.00399\n",
            "Epoch: 2300 Loss: 2.66879e-04, Lambda_1: 0.98676, Lambda_2: 0.00399\n",
            "Epoch: 2400 Loss: 3.01654e-04, Lambda_1: 0.98798, Lambda_2: 0.00400\n",
            "Epoch: 2500 Loss: 5.72150e-05, Lambda_1: 0.98878, Lambda_2: 0.00397\n",
            "Epoch: 2600 Loss: 7.19016e-05, Lambda_1: 0.98694, Lambda_2: 0.00420\n",
            "Epoch: 2700 Loss: 7.19292e-05, Lambda_1: 0.98955, Lambda_2: 0.00397\n",
            "Epoch: 2800 Loss: 1.54313e-04, Lambda_1: 0.98526, Lambda_2: 0.00442\n",
            "Epoch: 2900 Loss: 6.46040e-05, Lambda_1: 0.98887, Lambda_2: 0.00404\n",
            "Epoch: 3000 Loss: 5.05847e-05, Lambda_1: 0.98926, Lambda_2: 0.00407\n",
            "Epoch: 3100 Loss: 9.31710e-05, Lambda_1: 0.99083, Lambda_2: 0.00395\n",
            "Epoch: 3200 Loss: 1.18234e-03, Lambda_1: 0.99080, Lambda_2: 0.00393\n",
            "Epoch: 3300 Loss: 1.71575e-04, Lambda_1: 0.98910, Lambda_2: 0.00440\n",
            "Epoch: 3400 Loss: 5.29800e-05, Lambda_1: 0.99065, Lambda_2: 0.00404\n",
            "Epoch: 3500 Loss: 1.61620e-04, Lambda_1: 0.98912, Lambda_2: 0.00438\n",
            "Epoch: 3600 Loss: 5.61763e-05, Lambda_1: 0.99143, Lambda_2: 0.00398\n",
            "Epoch: 3700 Loss: 1.60018e-04, Lambda_1: 0.99231, Lambda_2: 0.00393\n",
            "Epoch: 3800 Loss: 1.48983e-04, Lambda_1: 0.99289, Lambda_2: 0.00390\n",
            "Epoch: 3900 Loss: 1.37465e-04, Lambda_1: 0.99331, Lambda_2: 0.00389\n",
            "Epoch: 4000 Loss: 1.33137e-04, Lambda_1: 0.99364, Lambda_2: 0.00389\n",
            "Epoch: 4100 Loss: 1.34608e-04, Lambda_1: 0.99389, Lambda_2: 0.00388\n",
            "Epoch: 4200 Loss: 1.34944e-04, Lambda_1: 0.99409, Lambda_2: 0.00388\n",
            "Epoch: 4300 Loss: 1.35972e-04, Lambda_1: 0.99426, Lambda_2: 0.00388\n",
            "Epoch: 4400 Loss: 1.37616e-04, Lambda_1: 0.99440, Lambda_2: 0.00387\n",
            "Epoch: 4500 Loss: 1.39663e-04, Lambda_1: 0.99453, Lambda_2: 0.00387\n",
            "Epoch: 4600 Loss: 1.38566e-04, Lambda_1: 0.99464, Lambda_2: 0.00387\n",
            "Epoch: 4700 Loss: 1.40113e-04, Lambda_1: 0.99473, Lambda_2: 0.00387\n",
            "Epoch: 4800 Loss: 1.40603e-04, Lambda_1: 0.99482, Lambda_2: 0.00387\n",
            "Epoch: 4900 Loss: 1.40367e-04, Lambda_1: 0.99491, Lambda_2: 0.00387\n",
            "Epoch: 5000 Loss: 1.42360e-04, Lambda_1: 0.99498, Lambda_2: 0.00386\n",
            "Epoch: 5100 Loss: 1.36429e-04, Lambda_1: 0.99505, Lambda_2: 0.00386\n",
            "Epoch: 5200 Loss: 1.47136e-04, Lambda_1: 0.99512, Lambda_2: 0.00386\n",
            "Epoch: 5300 Loss: 1.49214e-04, Lambda_1: 0.99519, Lambda_2: 0.00386\n",
            "Epoch: 5400 Loss: 1.57736e-04, Lambda_1: 0.99525, Lambda_2: 0.00386\n"
          ]
        }
      ],
      "source": [
        "arr1, arr2 = PINN_train(pinn_model, train_loader, optimizer, X, T, l1, l2)"
      ]
    },
    {
      "cell_type": "code",
      "execution_count": 16,
      "metadata": {
        "colab": {
          "base_uri": "https://localhost:8080/",
          "height": 472
        },
        "id": "N45FJixHHVbV",
        "outputId": "dae21e64-b0d7-443b-ea9e-e69ef76e4769"
      },
      "outputs": [
        {
          "output_type": "display_data",
          "data": {
            "text/plain": [
              "<Figure size 640x480 with 1 Axes>"
            ],
            "image/png": "[encoded data removed]"
          },
          "metadata": {}
        }
      ],
      "source": [
        "plt.plot(np.arange(1, 5501), arr1, label='Lambda1')\n",
        "plt.plot(np.arange(1, 5501), arr2, label='Lambda2')\n",
        "plt.legend()\n",
        "plt.xlabel('Iterations')\n",
        "plt.ylabel('Lambda Error %')\n",
        "plt.title('PINN using Adam Optimizer')\n",
        "plt.show()"
      ]
    },
    {
      "cell_type": "code",
      "source": [
        "lambda1 = float(pinn_model.lambda_1.data)\n",
        "lambda2 = float(pinn_model.lambda_2.data)\n",
        "print('Lambda1 Pred:', round(lambda1,8), '  ; Lambda1 Actual:', 1.0)\n",
        "print('Lambda2 Pred:', round(lambda2,8), '  ; Lambda2 Actual:', round(0.01/np.pi,8))"
      ],
      "metadata": {
        "colab": {
          "base_uri": "https://localhost:8080/"
        },
        "id": "WUi8rASBsb8Y",
        "outputId": "c440d712-700f-4e4c-e365-e67136733b36"
      },
      "execution_count": 17,
      "outputs": [
        {
          "output_type": "stream",
          "name": "stdout",
          "text": [
            "Lambda1 Pred: 0.99531293   ; Lambda1 Actual: 1.0\n",
            "Lambda2 Pred: 0.003856   ; Lambda2 Actual: 0.0031831\n"
          ]
        }
      ]
    }
  ],
  "metadata": {
    "colab": {
      "provenance": []
    },
    "kernelspec": {
      "display_name": "Python 3",
      "name": "python3"
    },
    "language_info": {
      "name": "python"
    }
  },
  "nbformat": 4,
  "nbformat_minor": 0
}